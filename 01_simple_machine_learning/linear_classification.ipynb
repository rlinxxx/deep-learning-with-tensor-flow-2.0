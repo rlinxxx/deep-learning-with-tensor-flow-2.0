{
 "cells": [
  {
   "cell_type": "markdown",
   "metadata": {},
   "source": [
    "# Problem Description:\n",
    "\n",
    "In this notebook, we are applying the concept of Logistic Regression to the Breast Cancer Wisconsin (Diagnostic) dataset using the TensorFlow 2.0. The dataset is available in the UCI repository: https://archive.ics.uci.edu/dataset/17/breast+cancer+wisconsin+diagnostic.\n",
    "\n",
    "The same dataset is also available in scikit-learn. Therefore, we make use of the ```sklearn``` module to retrieve the data.\n",
    "\n",
    "The notebook is organized as follows:\n",
    "\n",
    "1. Imports\n",
    "2. Reading the Data\n",
    "3. Training the Model\n",
    "4. Making Predictions\n",
    "5. Saving the Model"
   ]
  },
  {
   "cell_type": "markdown",
   "metadata": {},
   "source": [
    "### Imports"
   ]
  },
  {
   "cell_type": "code",
   "execution_count": 1,
   "metadata": {},
   "outputs": [],
   "source": [
    "import warnings\n",
    "warnings.filterwarnings(\"ignore\") "
   ]
  },
  {
   "cell_type": "code",
   "execution_count": 2,
   "metadata": {},
   "outputs": [],
   "source": [
    "import os\n",
    "os.environ['TF_CPP_MIN_LOG_LEVEL'] = '3'"
   ]
  },
  {
   "cell_type": "code",
   "execution_count": 3,
   "metadata": {},
   "outputs": [
    {
     "data": {
      "text/plain": [
       "'2.15.0'"
      ]
     },
     "execution_count": 3,
     "metadata": {},
     "output_type": "execute_result"
    }
   ],
   "source": [
    "import tensorflow as tf\n",
    "tf.__version__"
   ]
  },
  {
   "cell_type": "code",
   "execution_count": 6,
   "metadata": {},
   "outputs": [],
   "source": [
    "import numpy as np\n",
    "import pandas as pd\n",
    "import matplotlib.pyplot as plt\n",
    "from sklearn.datasets import load_breast_cancer\n",
    "from sklearn.preprocessing import StandardScaler\n",
    "from sklearn.model_selection import train_test_split"
   ]
  },
  {
   "cell_type": "markdown",
   "metadata": {},
   "source": [
    "### Reading the Data"
   ]
  },
  {
   "cell_type": "code",
   "execution_count": 3,
   "metadata": {},
   "outputs": [],
   "source": [
    "# Here we are working with the Breast Cancer dataset, available in the scikit-learn \n",
    "\n",
    "data = load_breast_cancer()"
   ]
  },
  {
   "cell_type": "code",
   "execution_count": 6,
   "metadata": {},
   "outputs": [
    {
     "data": {
      "text/plain": [
       "dict_keys(['data', 'target', 'frame', 'target_names', 'DESCR', 'feature_names', 'filename', 'data_module'])"
      ]
     },
     "execution_count": 6,
     "metadata": {},
     "output_type": "execute_result"
    }
   ],
   "source": [
    "# Since the data that is loaded from the sklearn module is a dictionary-like object, we can also access the data using its keys\n",
    "\n",
    "data.keys()"
   ]
  },
  {
   "cell_type": "code",
   "execution_count": 8,
   "metadata": {},
   "outputs": [],
   "source": [
    "# In order to see the data in a structured format, we need to transform it into a Pandas Dataframe\n",
    "\n",
    "data_pd = pd.DataFrame(data = data.data, columns = data.feature_names)"
   ]
  },
  {
   "cell_type": "code",
   "execution_count": 11,
   "metadata": {},
   "outputs": [
    {
     "data": {
      "text/html": [
       "<div>\n",
       "<style scoped>\n",
       "    .dataframe tbody tr th:only-of-type {\n",
       "        vertical-align: middle;\n",
       "    }\n",
       "\n",
       "    .dataframe tbody tr th {\n",
       "        vertical-align: top;\n",
       "    }\n",
       "\n",
       "    .dataframe thead th {\n",
       "        text-align: right;\n",
       "    }\n",
       "</style>\n",
       "<table border=\"1\" class=\"dataframe\">\n",
       "  <thead>\n",
       "    <tr style=\"text-align: right;\">\n",
       "      <th></th>\n",
       "      <th>mean radius</th>\n",
       "      <th>mean texture</th>\n",
       "      <th>mean perimeter</th>\n",
       "      <th>mean area</th>\n",
       "      <th>mean smoothness</th>\n",
       "      <th>mean compactness</th>\n",
       "      <th>mean concavity</th>\n",
       "      <th>mean concave points</th>\n",
       "      <th>mean symmetry</th>\n",
       "      <th>mean fractal dimension</th>\n",
       "      <th>...</th>\n",
       "      <th>worst radius</th>\n",
       "      <th>worst texture</th>\n",
       "      <th>worst perimeter</th>\n",
       "      <th>worst area</th>\n",
       "      <th>worst smoothness</th>\n",
       "      <th>worst compactness</th>\n",
       "      <th>worst concavity</th>\n",
       "      <th>worst concave points</th>\n",
       "      <th>worst symmetry</th>\n",
       "      <th>worst fractal dimension</th>\n",
       "    </tr>\n",
       "  </thead>\n",
       "  <tbody>\n",
       "    <tr>\n",
       "      <th>0</th>\n",
       "      <td>17.99</td>\n",
       "      <td>10.38</td>\n",
       "      <td>122.80</td>\n",
       "      <td>1001.0</td>\n",
       "      <td>0.11840</td>\n",
       "      <td>0.27760</td>\n",
       "      <td>0.3001</td>\n",
       "      <td>0.14710</td>\n",
       "      <td>0.2419</td>\n",
       "      <td>0.07871</td>\n",
       "      <td>...</td>\n",
       "      <td>25.38</td>\n",
       "      <td>17.33</td>\n",
       "      <td>184.60</td>\n",
       "      <td>2019.0</td>\n",
       "      <td>0.1622</td>\n",
       "      <td>0.6656</td>\n",
       "      <td>0.7119</td>\n",
       "      <td>0.2654</td>\n",
       "      <td>0.4601</td>\n",
       "      <td>0.11890</td>\n",
       "    </tr>\n",
       "    <tr>\n",
       "      <th>1</th>\n",
       "      <td>20.57</td>\n",
       "      <td>17.77</td>\n",
       "      <td>132.90</td>\n",
       "      <td>1326.0</td>\n",
       "      <td>0.08474</td>\n",
       "      <td>0.07864</td>\n",
       "      <td>0.0869</td>\n",
       "      <td>0.07017</td>\n",
       "      <td>0.1812</td>\n",
       "      <td>0.05667</td>\n",
       "      <td>...</td>\n",
       "      <td>24.99</td>\n",
       "      <td>23.41</td>\n",
       "      <td>158.80</td>\n",
       "      <td>1956.0</td>\n",
       "      <td>0.1238</td>\n",
       "      <td>0.1866</td>\n",
       "      <td>0.2416</td>\n",
       "      <td>0.1860</td>\n",
       "      <td>0.2750</td>\n",
       "      <td>0.08902</td>\n",
       "    </tr>\n",
       "    <tr>\n",
       "      <th>2</th>\n",
       "      <td>19.69</td>\n",
       "      <td>21.25</td>\n",
       "      <td>130.00</td>\n",
       "      <td>1203.0</td>\n",
       "      <td>0.10960</td>\n",
       "      <td>0.15990</td>\n",
       "      <td>0.1974</td>\n",
       "      <td>0.12790</td>\n",
       "      <td>0.2069</td>\n",
       "      <td>0.05999</td>\n",
       "      <td>...</td>\n",
       "      <td>23.57</td>\n",
       "      <td>25.53</td>\n",
       "      <td>152.50</td>\n",
       "      <td>1709.0</td>\n",
       "      <td>0.1444</td>\n",
       "      <td>0.4245</td>\n",
       "      <td>0.4504</td>\n",
       "      <td>0.2430</td>\n",
       "      <td>0.3613</td>\n",
       "      <td>0.08758</td>\n",
       "    </tr>\n",
       "    <tr>\n",
       "      <th>3</th>\n",
       "      <td>11.42</td>\n",
       "      <td>20.38</td>\n",
       "      <td>77.58</td>\n",
       "      <td>386.1</td>\n",
       "      <td>0.14250</td>\n",
       "      <td>0.28390</td>\n",
       "      <td>0.2414</td>\n",
       "      <td>0.10520</td>\n",
       "      <td>0.2597</td>\n",
       "      <td>0.09744</td>\n",
       "      <td>...</td>\n",
       "      <td>14.91</td>\n",
       "      <td>26.50</td>\n",
       "      <td>98.87</td>\n",
       "      <td>567.7</td>\n",
       "      <td>0.2098</td>\n",
       "      <td>0.8663</td>\n",
       "      <td>0.6869</td>\n",
       "      <td>0.2575</td>\n",
       "      <td>0.6638</td>\n",
       "      <td>0.17300</td>\n",
       "    </tr>\n",
       "    <tr>\n",
       "      <th>4</th>\n",
       "      <td>20.29</td>\n",
       "      <td>14.34</td>\n",
       "      <td>135.10</td>\n",
       "      <td>1297.0</td>\n",
       "      <td>0.10030</td>\n",
       "      <td>0.13280</td>\n",
       "      <td>0.1980</td>\n",
       "      <td>0.10430</td>\n",
       "      <td>0.1809</td>\n",
       "      <td>0.05883</td>\n",
       "      <td>...</td>\n",
       "      <td>22.54</td>\n",
       "      <td>16.67</td>\n",
       "      <td>152.20</td>\n",
       "      <td>1575.0</td>\n",
       "      <td>0.1374</td>\n",
       "      <td>0.2050</td>\n",
       "      <td>0.4000</td>\n",
       "      <td>0.1625</td>\n",
       "      <td>0.2364</td>\n",
       "      <td>0.07678</td>\n",
       "    </tr>\n",
       "  </tbody>\n",
       "</table>\n",
       "<p>5 rows × 30 columns</p>\n",
       "</div>"
      ],
      "text/plain": [
       "   mean radius  mean texture  mean perimeter  mean area  mean smoothness  \\\n",
       "0        17.99         10.38          122.80     1001.0          0.11840   \n",
       "1        20.57         17.77          132.90     1326.0          0.08474   \n",
       "2        19.69         21.25          130.00     1203.0          0.10960   \n",
       "3        11.42         20.38           77.58      386.1          0.14250   \n",
       "4        20.29         14.34          135.10     1297.0          0.10030   \n",
       "\n",
       "   mean compactness  mean concavity  mean concave points  mean symmetry  \\\n",
       "0           0.27760          0.3001              0.14710         0.2419   \n",
       "1           0.07864          0.0869              0.07017         0.1812   \n",
       "2           0.15990          0.1974              0.12790         0.2069   \n",
       "3           0.28390          0.2414              0.10520         0.2597   \n",
       "4           0.13280          0.1980              0.10430         0.1809   \n",
       "\n",
       "   mean fractal dimension  ...  worst radius  worst texture  worst perimeter  \\\n",
       "0                 0.07871  ...         25.38          17.33           184.60   \n",
       "1                 0.05667  ...         24.99          23.41           158.80   \n",
       "2                 0.05999  ...         23.57          25.53           152.50   \n",
       "3                 0.09744  ...         14.91          26.50            98.87   \n",
       "4                 0.05883  ...         22.54          16.67           152.20   \n",
       "\n",
       "   worst area  worst smoothness  worst compactness  worst concavity  \\\n",
       "0      2019.0            0.1622             0.6656           0.7119   \n",
       "1      1956.0            0.1238             0.1866           0.2416   \n",
       "2      1709.0            0.1444             0.4245           0.4504   \n",
       "3       567.7            0.2098             0.8663           0.6869   \n",
       "4      1575.0            0.1374             0.2050           0.4000   \n",
       "\n",
       "   worst concave points  worst symmetry  worst fractal dimension  \n",
       "0                0.2654          0.4601                  0.11890  \n",
       "1                0.1860          0.2750                  0.08902  \n",
       "2                0.2430          0.3613                  0.08758  \n",
       "3                0.2575          0.6638                  0.17300  \n",
       "4                0.1625          0.2364                  0.07678  \n",
       "\n",
       "[5 rows x 30 columns]"
      ]
     },
     "execution_count": 11,
     "metadata": {},
     "output_type": "execute_result"
    }
   ],
   "source": [
    "# Here, we are using a DataFrame for the purporse of visualizing the data only\n",
    "\n",
    "data_pd.head()"
   ]
  },
  {
   "cell_type": "code",
   "execution_count": 7,
   "metadata": {},
   "outputs": [
    {
     "data": {
      "text/plain": [
       "(569, 30)"
      ]
     },
     "execution_count": 7,
     "metadata": {},
     "output_type": "execute_result"
    }
   ],
   "source": [
    "# Checking the data shape\n",
    "\n",
    "data.data.shape"
   ]
  },
  {
   "cell_type": "code",
   "execution_count": 8,
   "metadata": {},
   "outputs": [
    {
     "data": {
      "text/plain": [
       "array(['malignant', 'benign'], dtype='<U9')"
      ]
     },
     "execution_count": 8,
     "metadata": {},
     "output_type": "execute_result"
    }
   ],
   "source": [
    "# Checking the target names\n",
    "\n",
    "data.target_names"
   ]
  },
  {
   "cell_type": "code",
   "execution_count": 9,
   "metadata": {},
   "outputs": [],
   "source": [
    "# Splitting the dataset into train and test sets\n",
    "\n",
    "x_train, x_test, y_train, y_test = train_test_split(data.data, data.target, test_size = 0.20, stratify = data.target, random_state = 12345)"
   ]
  },
  {
   "cell_type": "code",
   "execution_count": 10,
   "metadata": {},
   "outputs": [],
   "source": [
    "# The data shape is going to be passed as a input to the model\n",
    "\n",
    "N, D = x_train.shape"
   ]
  },
  {
   "cell_type": "code",
   "execution_count": 11,
   "metadata": {},
   "outputs": [
    {
     "data": {
      "text/plain": [
       "(455, 30)"
      ]
     },
     "execution_count": 11,
     "metadata": {},
     "output_type": "execute_result"
    }
   ],
   "source": [
    "N, D"
   ]
  },
  {
   "cell_type": "code",
   "execution_count": 12,
   "metadata": {},
   "outputs": [],
   "source": [
    "# In order to feed the data to the model, we need to normalize the data\n",
    "\n",
    "scaler = StandardScaler()\n",
    "x_train = scaler.fit_transform(x_train)\n",
    "x_test = scaler.transform(x_test)"
   ]
  },
  {
   "cell_type": "markdown",
   "metadata": {
    "editable": true,
    "slideshow": {
     "slide_type": ""
    },
    "tags": []
   },
   "source": [
    "### Training the Model"
   ]
  },
  {
   "cell_type": "markdown",
   "metadata": {},
   "source": [
    "In order to implement a simple Logistic Regression model, we use a single Dense layer, with the Sigmoid activation function at the end. The Sigmoid is represented as follows:\n",
    "\n",
    "\\begin{equation}\n",
    "    f(x) = \\frac{1}{1 + e^{-x}}\n",
    "\\end{equation}"
   ]
  },
  {
   "cell_type": "code",
   "execution_count": null,
   "metadata": {
    "editable": true,
    "slideshow": {
     "slide_type": ""
    },
    "tags": []
   },
   "outputs": [],
   "source": [
    "model = tf.keras.models.Sequential([\n",
    "    tf.keras.layers.Input(shape = D, ),\n",
    "    tf.keras.layers.Dense(1, activation = \"sigmoid\") \n",
    "])"
   ]
  },
  {
   "cell_type": "markdown",
   "metadata": {
    "editable": true,
    "raw_mimetype": "",
    "slideshow": {
     "slide_type": ""
    },
    "tags": []
   },
   "source": [
    "An alternative way to create TF models: \n",
    "```python\n",
    "    model = tf.keras.models.Sequential()\n",
    "    model.add(tf.keras.layers.Dense(1, input_shape = (D, ), activation = \"sigmoid\"))\n",
    "```"
   ]
  },
  {
   "cell_type": "markdown",
   "metadata": {},
   "source": [
    "To compile the model, we optimize the accuracy metric, and also use the Binary Cross Entropy as the loss function, represented as follows:\n",
    "\n",
    "\\begin{equation}\n",
    "    H_{p}(q) = -\\frac{1}{N} \\sum_{i=1}^{N} y_{i} \\cdot \\log(p(y_{i})) + (1 - y_{i}) \\cdot \\log(1 - p(y_{i}))\n",
    "\\end{equation}"
   ]
  },
  {
   "cell_type": "code",
   "execution_count": 14,
   "metadata": {},
   "outputs": [],
   "source": [
    "model.compile(optimizer = \"adam\",\n",
    "             loss = \"binary_crossentropy\",\n",
    "             metrics = [\"accuracy\"])"
   ]
  },
  {
   "cell_type": "code",
   "execution_count": 15,
   "metadata": {},
   "outputs": [
    {
     "name": "stdout",
     "output_type": "stream",
     "text": [
      "Epoch 1/100\n",
      "15/15 [==============================] - 1s 19ms/step - loss: 0.4156 - accuracy: 0.8352 - val_loss: 0.4437 - val_accuracy: 0.8246\n",
      "Epoch 2/100\n",
      "15/15 [==============================] - 0s 3ms/step - loss: 0.3815 - accuracy: 0.8571 - val_loss: 0.4118 - val_accuracy: 0.8333\n",
      "Epoch 3/100\n",
      "15/15 [==============================] - 0s 4ms/step - loss: 0.3533 - accuracy: 0.8747 - val_loss: 0.3848 - val_accuracy: 0.8509\n",
      "Epoch 4/100\n",
      "15/15 [==============================] - 0s 4ms/step - loss: 0.3286 - accuracy: 0.8791 - val_loss: 0.3623 - val_accuracy: 0.8509\n",
      "Epoch 5/100\n",
      "15/15 [==============================] - 0s 4ms/step - loss: 0.3076 - accuracy: 0.8857 - val_loss: 0.3424 - val_accuracy: 0.8772\n",
      "Epoch 6/100\n",
      "15/15 [==============================] - 0s 4ms/step - loss: 0.2892 - accuracy: 0.8879 - val_loss: 0.3242 - val_accuracy: 0.8860\n",
      "Epoch 7/100\n",
      "15/15 [==============================] - 0s 4ms/step - loss: 0.2727 - accuracy: 0.9011 - val_loss: 0.3087 - val_accuracy: 0.8947\n",
      "Epoch 8/100\n",
      "15/15 [==============================] - 0s 3ms/step - loss: 0.2588 - accuracy: 0.9055 - val_loss: 0.2951 - val_accuracy: 0.8947\n",
      "Epoch 9/100\n",
      "15/15 [==============================] - 0s 4ms/step - loss: 0.2465 - accuracy: 0.9099 - val_loss: 0.2832 - val_accuracy: 0.8947\n",
      "Epoch 10/100\n",
      "15/15 [==============================] - 0s 3ms/step - loss: 0.2350 - accuracy: 0.9209 - val_loss: 0.2731 - val_accuracy: 0.8947\n",
      "Epoch 11/100\n",
      "15/15 [==============================] - 0s 3ms/step - loss: 0.2252 - accuracy: 0.9253 - val_loss: 0.2629 - val_accuracy: 0.8947\n",
      "Epoch 12/100\n",
      "15/15 [==============================] - 0s 3ms/step - loss: 0.2161 - accuracy: 0.9297 - val_loss: 0.2534 - val_accuracy: 0.8947\n",
      "Epoch 13/100\n",
      "15/15 [==============================] - 0s 5ms/step - loss: 0.2074 - accuracy: 0.9319 - val_loss: 0.2455 - val_accuracy: 0.9035\n",
      "Epoch 14/100\n",
      "15/15 [==============================] - 0s 4ms/step - loss: 0.2000 - accuracy: 0.9385 - val_loss: 0.2378 - val_accuracy: 0.9123\n",
      "Epoch 15/100\n",
      "15/15 [==============================] - 0s 3ms/step - loss: 0.1930 - accuracy: 0.9429 - val_loss: 0.2310 - val_accuracy: 0.9123\n",
      "Epoch 16/100\n",
      "15/15 [==============================] - 0s 4ms/step - loss: 0.1866 - accuracy: 0.9473 - val_loss: 0.2249 - val_accuracy: 0.9211\n",
      "Epoch 17/100\n",
      "15/15 [==============================] - 0s 3ms/step - loss: 0.1809 - accuracy: 0.9473 - val_loss: 0.2191 - val_accuracy: 0.9211\n",
      "Epoch 18/100\n",
      "15/15 [==============================] - 0s 4ms/step - loss: 0.1758 - accuracy: 0.9473 - val_loss: 0.2133 - val_accuracy: 0.9211\n",
      "Epoch 19/100\n",
      "15/15 [==============================] - 0s 3ms/step - loss: 0.1703 - accuracy: 0.9473 - val_loss: 0.2084 - val_accuracy: 0.9211\n",
      "Epoch 20/100\n",
      "15/15 [==============================] - 0s 4ms/step - loss: 0.1659 - accuracy: 0.9495 - val_loss: 0.2035 - val_accuracy: 0.9211\n",
      "Epoch 21/100\n",
      "15/15 [==============================] - 0s 3ms/step - loss: 0.1614 - accuracy: 0.9495 - val_loss: 0.1989 - val_accuracy: 0.9211\n",
      "Epoch 22/100\n",
      "15/15 [==============================] - 0s 3ms/step - loss: 0.1570 - accuracy: 0.9516 - val_loss: 0.1949 - val_accuracy: 0.9211\n",
      "Epoch 23/100\n",
      "15/15 [==============================] - 0s 3ms/step - loss: 0.1533 - accuracy: 0.9516 - val_loss: 0.1909 - val_accuracy: 0.9211\n",
      "Epoch 24/100\n",
      "15/15 [==============================] - 0s 5ms/step - loss: 0.1496 - accuracy: 0.9516 - val_loss: 0.1872 - val_accuracy: 0.9211\n",
      "Epoch 25/100\n",
      "15/15 [==============================] - 0s 3ms/step - loss: 0.1463 - accuracy: 0.9516 - val_loss: 0.1838 - val_accuracy: 0.9211\n",
      "Epoch 26/100\n",
      "15/15 [==============================] - 0s 4ms/step - loss: 0.1431 - accuracy: 0.9516 - val_loss: 0.1807 - val_accuracy: 0.9298\n",
      "Epoch 27/100\n",
      "15/15 [==============================] - 0s 4ms/step - loss: 0.1401 - accuracy: 0.9516 - val_loss: 0.1777 - val_accuracy: 0.9298\n",
      "Epoch 28/100\n",
      "15/15 [==============================] - 0s 3ms/step - loss: 0.1373 - accuracy: 0.9516 - val_loss: 0.1748 - val_accuracy: 0.9298\n",
      "Epoch 29/100\n",
      "15/15 [==============================] - 0s 4ms/step - loss: 0.1348 - accuracy: 0.9516 - val_loss: 0.1721 - val_accuracy: 0.9298\n",
      "Epoch 30/100\n",
      "15/15 [==============================] - 0s 5ms/step - loss: 0.1322 - accuracy: 0.9516 - val_loss: 0.1699 - val_accuracy: 0.9298\n",
      "Epoch 31/100\n",
      "15/15 [==============================] - 0s 3ms/step - loss: 0.1300 - accuracy: 0.9538 - val_loss: 0.1674 - val_accuracy: 0.9386\n",
      "Epoch 32/100\n",
      "15/15 [==============================] - 0s 3ms/step - loss: 0.1277 - accuracy: 0.9582 - val_loss: 0.1653 - val_accuracy: 0.9386\n",
      "Epoch 33/100\n",
      "15/15 [==============================] - 0s 3ms/step - loss: 0.1256 - accuracy: 0.9604 - val_loss: 0.1631 - val_accuracy: 0.9386\n",
      "Epoch 34/100\n",
      "15/15 [==============================] - 0s 3ms/step - loss: 0.1237 - accuracy: 0.9626 - val_loss: 0.1610 - val_accuracy: 0.9386\n",
      "Epoch 35/100\n",
      "15/15 [==============================] - 0s 3ms/step - loss: 0.1218 - accuracy: 0.9626 - val_loss: 0.1589 - val_accuracy: 0.9474\n",
      "Epoch 36/100\n",
      "15/15 [==============================] - 0s 3ms/step - loss: 0.1200 - accuracy: 0.9648 - val_loss: 0.1573 - val_accuracy: 0.9474\n",
      "Epoch 37/100\n",
      "15/15 [==============================] - 0s 3ms/step - loss: 0.1183 - accuracy: 0.9648 - val_loss: 0.1557 - val_accuracy: 0.9474\n",
      "Epoch 38/100\n",
      "15/15 [==============================] - 0s 3ms/step - loss: 0.1166 - accuracy: 0.9714 - val_loss: 0.1538 - val_accuracy: 0.9474\n",
      "Epoch 39/100\n",
      "15/15 [==============================] - 0s 3ms/step - loss: 0.1150 - accuracy: 0.9714 - val_loss: 0.1520 - val_accuracy: 0.9474\n",
      "Epoch 40/100\n",
      "15/15 [==============================] - 0s 3ms/step - loss: 0.1135 - accuracy: 0.9736 - val_loss: 0.1505 - val_accuracy: 0.9474\n",
      "Epoch 41/100\n",
      "15/15 [==============================] - 0s 5ms/step - loss: 0.1121 - accuracy: 0.9736 - val_loss: 0.1489 - val_accuracy: 0.9561\n",
      "Epoch 42/100\n",
      "15/15 [==============================] - 0s 3ms/step - loss: 0.1107 - accuracy: 0.9736 - val_loss: 0.1475 - val_accuracy: 0.9561\n",
      "Epoch 43/100\n",
      "15/15 [==============================] - 0s 3ms/step - loss: 0.1093 - accuracy: 0.9736 - val_loss: 0.1460 - val_accuracy: 0.9561\n",
      "Epoch 44/100\n",
      "15/15 [==============================] - 0s 4ms/step - loss: 0.1081 - accuracy: 0.9736 - val_loss: 0.1447 - val_accuracy: 0.9561\n",
      "Epoch 45/100\n",
      "15/15 [==============================] - 0s 5ms/step - loss: 0.1069 - accuracy: 0.9736 - val_loss: 0.1437 - val_accuracy: 0.9561\n",
      "Epoch 46/100\n",
      "15/15 [==============================] - 0s 3ms/step - loss: 0.1058 - accuracy: 0.9736 - val_loss: 0.1426 - val_accuracy: 0.9561\n",
      "Epoch 47/100\n",
      "15/15 [==============================] - 0s 4ms/step - loss: 0.1047 - accuracy: 0.9736 - val_loss: 0.1414 - val_accuracy: 0.9561\n",
      "Epoch 48/100\n",
      "15/15 [==============================] - 0s 5ms/step - loss: 0.1036 - accuracy: 0.9736 - val_loss: 0.1400 - val_accuracy: 0.9561\n",
      "Epoch 49/100\n",
      "15/15 [==============================] - 0s 3ms/step - loss: 0.1026 - accuracy: 0.9736 - val_loss: 0.1391 - val_accuracy: 0.9561\n",
      "Epoch 50/100\n",
      "15/15 [==============================] - 0s 3ms/step - loss: 0.1016 - accuracy: 0.9736 - val_loss: 0.1380 - val_accuracy: 0.9561\n",
      "Epoch 51/100\n",
      "15/15 [==============================] - 0s 3ms/step - loss: 0.1006 - accuracy: 0.9736 - val_loss: 0.1369 - val_accuracy: 0.9561\n",
      "Epoch 52/100\n",
      "15/15 [==============================] - 0s 4ms/step - loss: 0.0996 - accuracy: 0.9736 - val_loss: 0.1361 - val_accuracy: 0.9561\n",
      "Epoch 53/100\n",
      "15/15 [==============================] - 0s 3ms/step - loss: 0.0988 - accuracy: 0.9736 - val_loss: 0.1352 - val_accuracy: 0.9561\n",
      "Epoch 54/100\n",
      "15/15 [==============================] - 0s 4ms/step - loss: 0.0979 - accuracy: 0.9736 - val_loss: 0.1341 - val_accuracy: 0.9561\n",
      "Epoch 55/100\n",
      "15/15 [==============================] - 0s 3ms/step - loss: 0.0971 - accuracy: 0.9758 - val_loss: 0.1333 - val_accuracy: 0.9561\n",
      "Epoch 56/100\n",
      "15/15 [==============================] - 0s 4ms/step - loss: 0.0963 - accuracy: 0.9758 - val_loss: 0.1327 - val_accuracy: 0.9561\n",
      "Epoch 57/100\n",
      "15/15 [==============================] - 0s 4ms/step - loss: 0.0955 - accuracy: 0.9758 - val_loss: 0.1315 - val_accuracy: 0.9561\n",
      "Epoch 58/100\n",
      "15/15 [==============================] - 0s 4ms/step - loss: 0.0947 - accuracy: 0.9758 - val_loss: 0.1308 - val_accuracy: 0.9561\n",
      "Epoch 59/100\n",
      "15/15 [==============================] - 0s 4ms/step - loss: 0.0940 - accuracy: 0.9780 - val_loss: 0.1303 - val_accuracy: 0.9561\n",
      "Epoch 60/100\n",
      "15/15 [==============================] - 0s 5ms/step - loss: 0.0933 - accuracy: 0.9780 - val_loss: 0.1295 - val_accuracy: 0.9561\n",
      "Epoch 61/100\n",
      "15/15 [==============================] - 0s 4ms/step - loss: 0.0925 - accuracy: 0.9802 - val_loss: 0.1285 - val_accuracy: 0.9561\n",
      "Epoch 62/100\n",
      "15/15 [==============================] - 0s 4ms/step - loss: 0.0918 - accuracy: 0.9802 - val_loss: 0.1278 - val_accuracy: 0.9561\n",
      "Epoch 63/100\n",
      "15/15 [==============================] - 0s 5ms/step - loss: 0.0912 - accuracy: 0.9802 - val_loss: 0.1271 - val_accuracy: 0.9561\n",
      "Epoch 64/100\n",
      "15/15 [==============================] - 0s 5ms/step - loss: 0.0905 - accuracy: 0.9802 - val_loss: 0.1265 - val_accuracy: 0.9561\n",
      "Epoch 65/100\n",
      "15/15 [==============================] - 0s 4ms/step - loss: 0.0899 - accuracy: 0.9802 - val_loss: 0.1257 - val_accuracy: 0.9561\n",
      "Epoch 66/100\n",
      "15/15 [==============================] - 0s 4ms/step - loss: 0.0893 - accuracy: 0.9802 - val_loss: 0.1252 - val_accuracy: 0.9561\n",
      "Epoch 67/100\n",
      "15/15 [==============================] - 0s 3ms/step - loss: 0.0887 - accuracy: 0.9802 - val_loss: 0.1245 - val_accuracy: 0.9561\n",
      "Epoch 68/100\n",
      "15/15 [==============================] - 0s 4ms/step - loss: 0.0881 - accuracy: 0.9802 - val_loss: 0.1239 - val_accuracy: 0.9561\n",
      "Epoch 69/100\n",
      "15/15 [==============================] - 0s 4ms/step - loss: 0.0875 - accuracy: 0.9824 - val_loss: 0.1232 - val_accuracy: 0.9561\n",
      "Epoch 70/100\n",
      "15/15 [==============================] - 0s 3ms/step - loss: 0.0870 - accuracy: 0.9824 - val_loss: 0.1231 - val_accuracy: 0.9561\n",
      "Epoch 71/100\n",
      "15/15 [==============================] - 0s 4ms/step - loss: 0.0864 - accuracy: 0.9824 - val_loss: 0.1227 - val_accuracy: 0.9561\n",
      "Epoch 72/100\n",
      "15/15 [==============================] - 0s 3ms/step - loss: 0.0859 - accuracy: 0.9824 - val_loss: 0.1219 - val_accuracy: 0.9561\n",
      "Epoch 73/100\n",
      "15/15 [==============================] - 0s 4ms/step - loss: 0.0854 - accuracy: 0.9824 - val_loss: 0.1213 - val_accuracy: 0.9561\n",
      "Epoch 74/100\n",
      "15/15 [==============================] - 0s 5ms/step - loss: 0.0849 - accuracy: 0.9824 - val_loss: 0.1209 - val_accuracy: 0.9561\n",
      "Epoch 75/100\n",
      "15/15 [==============================] - 0s 4ms/step - loss: 0.0844 - accuracy: 0.9824 - val_loss: 0.1204 - val_accuracy: 0.9561\n",
      "Epoch 76/100\n",
      "15/15 [==============================] - 0s 3ms/step - loss: 0.0840 - accuracy: 0.9824 - val_loss: 0.1198 - val_accuracy: 0.9561\n",
      "Epoch 77/100\n",
      "15/15 [==============================] - 0s 3ms/step - loss: 0.0835 - accuracy: 0.9824 - val_loss: 0.1189 - val_accuracy: 0.9561\n",
      "Epoch 78/100\n",
      "15/15 [==============================] - 0s 3ms/step - loss: 0.0831 - accuracy: 0.9846 - val_loss: 0.1184 - val_accuracy: 0.9561\n",
      "Epoch 79/100\n",
      "15/15 [==============================] - 0s 4ms/step - loss: 0.0826 - accuracy: 0.9846 - val_loss: 0.1179 - val_accuracy: 0.9561\n",
      "Epoch 80/100\n",
      "15/15 [==============================] - 0s 3ms/step - loss: 0.0822 - accuracy: 0.9846 - val_loss: 0.1174 - val_accuracy: 0.9561\n",
      "Epoch 81/100\n",
      "15/15 [==============================] - 0s 3ms/step - loss: 0.0818 - accuracy: 0.9846 - val_loss: 0.1170 - val_accuracy: 0.9561\n",
      "Epoch 82/100\n",
      "15/15 [==============================] - 0s 3ms/step - loss: 0.0813 - accuracy: 0.9846 - val_loss: 0.1164 - val_accuracy: 0.9561\n",
      "Epoch 83/100\n",
      "15/15 [==============================] - 0s 5ms/step - loss: 0.0809 - accuracy: 0.9846 - val_loss: 0.1161 - val_accuracy: 0.9561\n",
      "Epoch 84/100\n",
      "15/15 [==============================] - 0s 3ms/step - loss: 0.0806 - accuracy: 0.9846 - val_loss: 0.1159 - val_accuracy: 0.9561\n",
      "Epoch 85/100\n",
      "15/15 [==============================] - 0s 3ms/step - loss: 0.0801 - accuracy: 0.9846 - val_loss: 0.1153 - val_accuracy: 0.9561\n",
      "Epoch 86/100\n",
      "15/15 [==============================] - 0s 3ms/step - loss: 0.0798 - accuracy: 0.9846 - val_loss: 0.1152 - val_accuracy: 0.9561\n",
      "Epoch 87/100\n",
      "15/15 [==============================] - 0s 3ms/step - loss: 0.0794 - accuracy: 0.9846 - val_loss: 0.1146 - val_accuracy: 0.9561\n",
      "Epoch 88/100\n",
      "15/15 [==============================] - 0s 3ms/step - loss: 0.0790 - accuracy: 0.9846 - val_loss: 0.1141 - val_accuracy: 0.9561\n",
      "Epoch 89/100\n",
      "15/15 [==============================] - 0s 3ms/step - loss: 0.0787 - accuracy: 0.9846 - val_loss: 0.1139 - val_accuracy: 0.9561\n",
      "Epoch 90/100\n",
      "15/15 [==============================] - 0s 3ms/step - loss: 0.0783 - accuracy: 0.9846 - val_loss: 0.1135 - val_accuracy: 0.9561\n",
      "Epoch 91/100\n",
      "15/15 [==============================] - 0s 4ms/step - loss: 0.0780 - accuracy: 0.9846 - val_loss: 0.1132 - val_accuracy: 0.9561\n",
      "Epoch 92/100\n",
      "15/15 [==============================] - 0s 3ms/step - loss: 0.0776 - accuracy: 0.9846 - val_loss: 0.1129 - val_accuracy: 0.9561\n",
      "Epoch 93/100\n",
      "15/15 [==============================] - 0s 3ms/step - loss: 0.0773 - accuracy: 0.9846 - val_loss: 0.1119 - val_accuracy: 0.9561\n",
      "Epoch 94/100\n",
      "15/15 [==============================] - 0s 3ms/step - loss: 0.0770 - accuracy: 0.9846 - val_loss: 0.1113 - val_accuracy: 0.9561\n",
      "Epoch 95/100\n",
      "15/15 [==============================] - 0s 4ms/step - loss: 0.0768 - accuracy: 0.9846 - val_loss: 0.1112 - val_accuracy: 0.9561\n",
      "Epoch 96/100\n",
      "15/15 [==============================] - 0s 4ms/step - loss: 0.0764 - accuracy: 0.9846 - val_loss: 0.1109 - val_accuracy: 0.9561\n",
      "Epoch 97/100\n",
      "15/15 [==============================] - 0s 3ms/step - loss: 0.0761 - accuracy: 0.9846 - val_loss: 0.1105 - val_accuracy: 0.9561\n",
      "Epoch 98/100\n",
      "15/15 [==============================] - 0s 3ms/step - loss: 0.0758 - accuracy: 0.9846 - val_loss: 0.1102 - val_accuracy: 0.9561\n",
      "Epoch 99/100\n",
      "15/15 [==============================] - 0s 3ms/step - loss: 0.0755 - accuracy: 0.9846 - val_loss: 0.1098 - val_accuracy: 0.9649\n",
      "Epoch 100/100\n",
      "15/15 [==============================] - 0s 3ms/step - loss: 0.0752 - accuracy: 0.9846 - val_loss: 0.1096 - val_accuracy: 0.9649\n"
     ]
    }
   ],
   "source": [
    "r = model.fit(x_train, y_train, validation_data = (x_test, y_test),\n",
    "             epochs = 100)"
   ]
  },
  {
   "cell_type": "code",
   "execution_count": 16,
   "metadata": {},
   "outputs": [
    {
     "name": "stdout",
     "output_type": "stream",
     "text": [
      "15/15 [==============================] - 0s 1ms/step - loss: 0.0750 - accuracy: 0.9868\n",
      "Train score: [0.07504502683877945, 0.9868131875991821]\n",
      "4/4 [==============================] - 0s 2ms/step - loss: 0.1096 - accuracy: 0.9649\n",
      "Train score: [0.10957915335893631, 0.9649122953414917]\n"
     ]
    }
   ],
   "source": [
    "print(f\"Train score: {model.evaluate(x_train, y_train)}\")\n",
    "print(f\"Train score: {model.evaluate(x_test, y_test)}\")"
   ]
  },
  {
   "cell_type": "code",
   "execution_count": 17,
   "metadata": {},
   "outputs": [
    {
     "data": {
      "image/png": "[encoded data removed]",
      "text/plain": [
       "<Figure size 640x480 with 1 Axes>"
      ]
     },
     "metadata": {},
     "output_type": "display_data"
    }
   ],
   "source": [
    "plt.plot(r.history[\"loss\"], label = \"loss\")\n",
    "plt.plot(r.history[\"val_loss\"], label = \"val_loss\")\n",
    "plt.legend();"
   ]
  },
  {
   "cell_type": "code",
   "execution_count": 18,
   "metadata": {},
   "outputs": [
    {
     "data": {
      "image/png": "[encoded data removed]",
      "text/plain": [
       "<Figure size 640x480 with 1 Axes>"
      ]
     },
     "metadata": {},
     "output_type": "display_data"
    }
   ],
   "source": [
    "plt.plot(r.history[\"accuracy\"], label = \"accuracy\")\n",
    "plt.plot(r.history[\"val_accuracy\"], label = \"val_accuracy\")\n",
    "plt.legend();"
   ]
  },
  {
   "cell_type": "markdown",
   "metadata": {},
   "source": [
    "### Making Predictions"
   ]
  },
  {
   "cell_type": "code",
   "execution_count": 19,
   "metadata": {},
   "outputs": [
    {
     "name": "stdout",
     "output_type": "stream",
     "text": [
      "4/4 [==============================] - 0s 1ms/step\n",
      "[[9.8835051e-01]\n",
      " [7.2433375e-04]\n",
      " [9.9879557e-01]\n",
      " [9.4268739e-01]\n",
      " [4.4930137e-05]\n",
      " [9.9899322e-01]\n",
      " [6.9203176e-02]\n",
      " [2.7467295e-05]\n",
      " [1.6100390e-02]\n",
      " [9.9995404e-01]]\n"
     ]
    }
   ],
   "source": [
    "# We can analyse the outputs of the sigmoid, interpreted as probabilities p(y = 1 | x)\n",
    "\n",
    "P = model.predict(x_test)\n",
    "print(P[:10])"
   ]
  },
  {
   "cell_type": "code",
   "execution_count": 20,
   "metadata": {},
   "outputs": [
    {
     "name": "stdout",
     "output_type": "stream",
     "text": [
      "[1. 0. 1. 1. 0. 1. 0. 0. 0. 1. 1. 1. 1. 1. 1. 1. 1. 1. 1. 1. 1. 1. 1. 1.\n",
      " 0. 1. 1. 1. 0. 0. 0. 0. 1. 0. 1. 0. 1. 0. 0. 0. 1. 0. 1. 1. 1. 0. 0. 1.\n",
      " 1. 0. 1. 0. 0. 1. 1. 0. 1. 1. 1. 1. 0. 0. 1. 1. 1. 0. 1. 1. 1. 1. 1. 1.\n",
      " 0. 1. 1. 1. 0. 1. 1. 1. 1. 0. 1. 1. 0. 0. 0. 1. 1. 1. 1. 1. 0. 0. 1. 0.\n",
      " 1. 1. 0. 1. 1. 1. 1. 1. 0. 1. 0. 1. 1. 0. 1. 1. 0. 0.]\n"
     ]
    }
   ],
   "source": [
    "# We can round the output numbers to get the actual predictions\n",
    "# They have to be flattened since the targets are size (N,) while the predictions are size (N,1)\n",
    "\n",
    "P = np.round(P).flatten()\n",
    "print(P)"
   ]
  },
  {
   "cell_type": "code",
   "execution_count": 21,
   "metadata": {},
   "outputs": [
    {
     "name": "stdout",
     "output_type": "stream",
     "text": [
      "Manually calculated accuracy: 0.9649122807017544\n",
      "4/4 [==============================] - 0s 2ms/step - loss: 0.1096 - accuracy: 0.9649\n",
      "Evaluate output: [0.10957915335893631, 0.9649122953414917]\n"
     ]
    }
   ],
   "source": [
    "# We can also calculate the accuracy manually and compare it to the evaluate() output\n",
    "\n",
    "print(\"Manually calculated accuracy:\", np.mean(P == y_test))\n",
    "print(\"Evaluate output:\", model.evaluate(x_test, y_test))"
   ]
  },
  {
   "cell_type": "markdown",
   "metadata": {},
   "source": [
    "### Saving the Model"
   ]
  },
  {
   "cell_type": "code",
   "execution_count": 22,
   "metadata": {},
   "outputs": [],
   "source": [
    "# We can also save the model in our local directory\n",
    "\n",
    "model.save('linearclassifier.h5')   "
   ]
  },
  {
   "cell_type": "code",
   "execution_count": 23,
   "metadata": {},
   "outputs": [
    {
     "name": "stdout",
     "output_type": "stream",
     "text": [
      "[<keras.src.layers.core.dense.Dense object at 0x7f9a605108d0>]\n",
      "4/4 [==============================] - 0s 2ms/step - loss: 0.1096 - accuracy: 0.9649\n"
     ]
    },
    {
     "data": {
      "text/plain": [
       "[0.10957915335893631, 0.9649122953414917]"
      ]
     },
     "execution_count": 23,
     "metadata": {},
     "output_type": "execute_result"
    }
   ],
   "source": [
    "# Loading the same model trained and making use of it\n",
    "# From the metrics below, we can see that this is the same model \n",
    "\n",
    "model = tf.keras.models.load_model('linearclassifier.h5')\n",
    "print(model.layers)\n",
    "model.evaluate(x_test, y_test)"
   ]
  }
 ],
 "metadata": {
  "kernelspec": {
   "display_name": "Python 3 (ipykernel)",
   "language": "python",
   "name": "python3"
  },
  "language_info": {
   "codemirror_mode": {
    "name": "ipython",
    "version": 3
   },
   "file_extension": ".py",
   "mimetype": "text/x-python",
   "name": "python",
   "nbconvert_exporter": "python",
   "pygments_lexer": "ipython3",
   "version": "3.11.7"
  }
 },
 "nbformat": 4,
 "nbformat_minor": 4
}
