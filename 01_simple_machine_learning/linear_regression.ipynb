{
 "cells": [
  {
   "cell_type": "markdown",
   "id": "1c8fc3a5-f443-42b1-a9d9-638ca9a29081",
   "metadata": {},
   "source": [
    "# Problem Description:\n",
    "\n",
    "Here, we use the concepts of Linear Regression to solve the problem of Moore's Law using TensorFlow 2.0.\n",
    "\n",
    "The notebook is organized as follows:\n",
    "\n",
    "1. Imports\n",
    "2. Reading the Data\n",
    "3. Training the Model\n",
    "4. Making Predictions"
   ]
  },
  {
   "cell_type": "markdown",
   "id": "26066671-ddc8-4696-9327-b9f488ab1d98",
   "metadata": {},
   "source": [
    "### Imports"
   ]
  },
  {
   "cell_type": "code",
   "execution_count": 1,
   "id": "ec37f9ce-31bf-406f-9d3b-f4c80aa05579",
   "metadata": {},
   "outputs": [],
   "source": [
    "import warnings\n",
    "warnings.filterwarnings(\"ignore\") "
   ]
  },
  {
   "cell_type": "code",
   "execution_count": 2,
   "id": "5a2098a2-62f3-4c3b-b4cf-d8fa78b7572c",
   "metadata": {},
   "outputs": [],
   "source": [
    "import os\n",
    "os.environ['TF_CPP_MIN_LOG_LEVEL'] = '3'"
   ]
  },
  {
   "cell_type": "code",
   "execution_count": 3,
   "id": "ce9764d7-9768-422d-a447-20b6fc3e2b6b",
   "metadata": {},
   "outputs": [],
   "source": [
    "from os import path\n",
    "\n",
    "RESOURCES_PATH = path.dirname(path.realpath(\"__file__\"))\n",
    "DATA_PATH = path.join(RESOURCES_PATH, '../resources')\n",
    "DATA = path.join(DATA_PATH, 'moore.csv')"
   ]
  },
  {
   "cell_type": "code",
   "execution_count": 4,
   "id": "26c127b7-483c-48af-8a1c-8eb1a7fd3013",
   "metadata": {},
   "outputs": [
    {
     "data": {
      "text/plain": [
       "'2.15.0'"
      ]
     },
     "execution_count": 4,
     "metadata": {},
     "output_type": "execute_result"
    }
   ],
   "source": [
    "import tensorflow as tf\n",
    "tf.__version__"
   ]
  },
  {
   "cell_type": "code",
   "execution_count": 5,
   "id": "df3194e4-95c9-45c3-8004-0c9d7cf1b801",
   "metadata": {},
   "outputs": [],
   "source": [
    "import pandas as pd\n",
    "import numpy as np\n",
    "import matplotlib.pyplot as plt"
   ]
  },
  {
   "cell_type": "markdown",
   "id": "a3826b36-0702-4707-9482-b22919195c4b",
   "metadata": {},
   "source": [
    "### Reading the Data"
   ]
  },
  {
   "cell_type": "code",
   "execution_count": 6,
   "id": "e3a4a4a2-04f2-426a-891e-58f6138c3651",
   "metadata": {},
   "outputs": [],
   "source": [
    "data = pd.read_csv(DATA, header = None).to_numpy()"
   ]
  },
  {
   "cell_type": "code",
   "execution_count": 7,
   "id": "8bdc2c52-d0b0-41d1-a71d-be37fa9cbd80",
   "metadata": {},
   "outputs": [
    {
     "data": {
      "text/plain": [
       "array([[       1971,        2300],\n",
       "       [       1972,        3500],\n",
       "       [       1973,        2500],\n",
       "       [       1973,        2500],\n",
       "       [       1974,        4100],\n",
       "       [       1974,        4500],\n",
       "       [       1974,        8000],\n",
       "       [       1975,        3510],\n",
       "       [       1976,        5000],\n",
       "       [       1976,        8500],\n",
       "       [       1976,        6500],\n",
       "       [       1978,        9000],\n",
       "       [       1978,       29000],\n",
       "       [       1979,       17500],\n",
       "       [       1979,       29000],\n",
       "       [       1979,       68000],\n",
       "       [       1981,       11500],\n",
       "       [       1982,       55000],\n",
       "       [       1982,      134000],\n",
       "       [       1983,       22000],\n",
       "       [       1984,       63000],\n",
       "       [       1984,      190000],\n",
       "       [       1985,      275000],\n",
       "       [       1985,       25000],\n",
       "       [       1985,       16000],\n",
       "       [       1986,      110000],\n",
       "       [       1986,      375000],\n",
       "       [       1986,       30000],\n",
       "       [       1987,      385000],\n",
       "       [       1987,      730000],\n",
       "       [       1987,      273000],\n",
       "       [       1987,      553000],\n",
       "       [       1988,      180000],\n",
       "       [       1988,      250000],\n",
       "       [       1989,      600000],\n",
       "       [       1989,     1000000],\n",
       "       [       1989,     1180235],\n",
       "       [       1989,      310000],\n",
       "       [       1990,     1200000],\n",
       "       [       1991,     1350000],\n",
       "       [       1991,       35000],\n",
       "       [       1992,      600000],\n",
       "       [       1992,      900000],\n",
       "       [       1993,     2800000],\n",
       "       [       1993,     3100000],\n",
       "       [       1994,      578977],\n",
       "       [       1994,     2500000],\n",
       "       [       1995,     2500000],\n",
       "       [       1999,      111000],\n",
       "       [       1995,     5500000],\n",
       "       [       1996,     4300000],\n",
       "       [       1997,    10000000],\n",
       "       [       1997,     7500000],\n",
       "       [       1997,     8800000],\n",
       "       [       1998,     7500000],\n",
       "       [       1999,     9500000],\n",
       "       [       1999,    13500000],\n",
       "       [       2000,    21000000],\n",
       "       [       2000,    21000000],\n",
       "       [       1999,    27400000],\n",
       "       [       1999,    21300000],\n",
       "       [       1999,    22000000],\n",
       "       [       2000,    42000000],\n",
       "       [       2001,   191000000],\n",
       "       [       2001,    45000000],\n",
       "       [       2002,    55000000],\n",
       "       [       2004,   112000000],\n",
       "       [       2004,   400000000],\n",
       "       [       2005,   169000000],\n",
       "       [       2006,   184000000],\n",
       "       [       2005,   228000000],\n",
       "       [       2006,   362000000],\n",
       "       [       2007,   540000000],\n",
       "       [       2008,    47000000],\n",
       "       [       2003,    54300000],\n",
       "       [       2003,   105900000],\n",
       "       [       2002,   220000000],\n",
       "       [       2005,   165000000],\n",
       "       [       2005,   250000000],\n",
       "       [       2006,   291000000],\n",
       "       [       2007,   169000000],\n",
       "       [       2003,   410000000],\n",
       "       [       2008,   600000000],\n",
       "       [       2009,   760000000],\n",
       "       [       2011,  1870000000],\n",
       "       [       2012,   432000000],\n",
       "       [       2007,   463000000],\n",
       "       [       2007,    26000000],\n",
       "       [       2008,   230000000],\n",
       "       [       2004,   592000000],\n",
       "       [       2007,   411000000],\n",
       "       [       2008,   731000000],\n",
       "       [       2008,   758000000],\n",
       "       [       2007,   789000000],\n",
       "       [       2009,   904000000],\n",
       "       [       2010,  1000000000],\n",
       "       [       2012,  2990000000],\n",
       "       [       2013,  1000000000],\n",
       "       [       2011,  1160000000],\n",
       "       [       2010,  1170000000],\n",
       "       [       2010,  1200000000],\n",
       "       [       2012,  1200000000],\n",
       "       [       2012,  1303000000],\n",
       "       [       2010,  1400000000],\n",
       "       [       2012,  1400000000],\n",
       "       [       2014,  1400000000],\n",
       "       [       2006,  1700000000],\n",
       "       [       2015,  1750000000],\n",
       "       [       2013,  1860000000],\n",
       "       [       2015,  1900000000],\n",
       "       [       2008,  1900000000],\n",
       "       [       2010,  2000000000],\n",
       "       [       2014,  2000000000],\n",
       "       [       2015,  2000000000],\n",
       "       [       2015,  3000000000],\n",
       "       [       2012,  2100000000],\n",
       "       [       2011,  2270000000],\n",
       "       [       2010,  2300000000],\n",
       "       [       2014,  2600000000],\n",
       "       [       2011,  2600000000],\n",
       "       [       2012,  2750000000],\n",
       "       [       2014,  3000000000],\n",
       "       [       2016,  3000000000],\n",
       "       [       2017,  5300000000],\n",
       "       [       2017,  5300000000],\n",
       "       [       2018,  8500000000],\n",
       "       [       2012,  3100000000],\n",
       "       [       2016,  3200000000],\n",
       "       [       2016,  3300000000],\n",
       "       [       2015,  3990000000],\n",
       "       [       2013,  4200000000],\n",
       "       [       2017,  4300000000],\n",
       "       [       2014,  4310000000],\n",
       "       [       2017,  4800000000],\n",
       "       [       2017,  4800000000],\n",
       "       [       2017,  4800000000],\n",
       "       [       2012,  5000000000],\n",
       "       [       2013,  5000000000],\n",
       "       [       2014,  5560000000],\n",
       "       [       2017,  6100000000],\n",
       "       [       2018,  6900000000],\n",
       "       [       2016,  4000000000],\n",
       "       [       2018,  6900000000],\n",
       "       [       2017,  5500000000],\n",
       "       [       2018,  5500000000],\n",
       "       [       2017,  7000000000],\n",
       "       [       2015,  7100000000],\n",
       "       [       2017,  8000000000],\n",
       "       [       2016,  7200000000],\n",
       "       [       2017,  8000000000],\n",
       "       [       2016,  8000000000],\n",
       "       [       2017,  9700000000],\n",
       "       [       2017,   250000000],\n",
       "       [       2015, 10000000000],\n",
       "       [       2017,  5450000000],\n",
       "       [       2018, 10000000000],\n",
       "       [       2017,  4300000000],\n",
       "       [       2017, 18000000000],\n",
       "       [       2017, 19200000000],\n",
       "       [       2018,  8876000000],\n",
       "       [       2018, 23600000000],\n",
       "       [       2018,  9000000000]])"
      ]
     },
     "execution_count": 7,
     "metadata": {},
     "output_type": "execute_result"
    }
   ],
   "source": [
    "# Here, we are analysing the data of Moore's Law\n",
    "# The data is a two dimensional array with the year and a count\n",
    "\n",
    "data"
   ]
  },
  {
   "cell_type": "code",
   "execution_count": 8,
   "id": "ca6dcf02-f9bb-4912-adaf-d4a605706a79",
   "metadata": {},
   "outputs": [],
   "source": [
    "# Since the data values are only one dimensional, we reshape the data to get an N x D dimensional array\n",
    "\n",
    "X = data[:, 0].reshape(-1, 1)\n",
    "Y = data[:, 1]"
   ]
  },
  {
   "cell_type": "code",
   "execution_count": 9,
   "id": "7d6b5cba-b76b-493a-9457-a86c2fdce326",
   "metadata": {},
   "outputs": [
    {
     "data": {
      "image/png": "[encoded data removed]",
      "text/plain": [
       "<Figure size 640x480 with 1 Axes>"
      ]
     },
     "metadata": {},
     "output_type": "display_data"
    }
   ],
   "source": [
    "# Plot the data \n",
    "\n",
    "plt.scatter(X, Y)\n",
    "plt.title(\"Raw Data\");"
   ]
  },
  {
   "cell_type": "code",
   "execution_count": 10,
   "id": "1430a9d9-d0b0-4523-aa7b-e504401b7c5e",
   "metadata": {},
   "outputs": [
    {
     "data": {
      "image/png": "[encoded data removed]",
      "text/plain": [
       "<Figure size 640x480 with 1 Axes>"
      ]
     },
     "metadata": {},
     "output_type": "display_data"
    }
   ],
   "source": [
    "# As we can see, the data grows exponentially \n",
    "# Since we want a linear model to fit in the data, because we're doing a linear regression, we are going to take the log of the exponential data\n",
    "# Logarithms and exponentials with the same base cancel each other. This is true because logarithms and exponentials are inverse operations\n",
    "# The result of taking the log of Y is almost a straight line, which justifies our use of linear regression\n",
    "\n",
    "Y = np.log(Y)\n",
    "plt.scatter(X, Y)\n",
    "plt.title(\"Logarithm applied in the Y axis to remove the exponential pattern\");"
   ]
  },
  {
   "cell_type": "code",
   "execution_count": 11,
   "id": "8150c481-f947-430b-8363-f85b7f0d11a3",
   "metadata": {},
   "outputs": [
    {
     "data": {
      "image/png": "[encoded data removed]",
      "text/plain": [
       "<Figure size 640x480 with 1 Axes>"
      ]
     },
     "metadata": {},
     "output_type": "display_data"
    }
   ],
   "source": [
    "# The range of the input X varies from 1970 to 2020\n",
    "# One good practice is to shift it down by its mean, giving it 0 mean by subtracting the mean\n",
    "# Another thing we could do is also divide by the standard deviation\n",
    "# But if we leave it like this, then we don't have to do the reverse transformation to scale it back\n",
    "# At the same time, this will make the optimization of the learning process harder, so that's the trade off.\n",
    "\n",
    "X = X - X.mean()\n",
    "plt.scatter(X, Y)\n",
    "plt.title(\"Give the X axis 0 mean\");"
   ]
  },
  {
   "cell_type": "markdown",
   "id": "42c97732-e04a-4d9b-9111-18154a2960c9",
   "metadata": {},
   "source": [
    "### Training the Model"
   ]
  },
  {
   "cell_type": "markdown",
   "id": "a2fd0714-271c-420d-a11f-7df02cc7c639",
   "metadata": {},
   "source": [
    "Since we are using the model for Regression, there is no need to specify an activation function."
   ]
  },
  {
   "cell_type": "code",
   "execution_count": 12,
   "id": "7fb1444a-70eb-4730-9fb1-569c510c344a",
   "metadata": {},
   "outputs": [],
   "source": [
    "# Build model\n",
    "\n",
    "model = tf.keras.models.Sequential([\n",
    "    tf.keras.layers.Input(shape = (1,)), \n",
    "    tf.keras.layers.Dense(1)\n",
    "])"
   ]
  },
  {
   "cell_type": "markdown",
   "id": "d41d40e4-c2bc-45e0-b57f-578601d7855c",
   "metadata": {},
   "source": [
    "For the loss, we are trying to optimize the Mean Squared Error, represented as:\n",
    "\n",
    "\\begin{equation}\n",
    "    MSE = \\frac{1}{N} \\sum_{i=1}^{N} (y_{i} - \\hat{y_{i}})^{2}\n",
    "\\end{equation}"
   ]
  },
  {
   "cell_type": "code",
   "execution_count": 13,
   "id": "4b0313e5-38cf-418a-bce8-5ae866d09efd",
   "metadata": {},
   "outputs": [],
   "source": [
    "# When calling the optimizer, the first argument is the learning rate, and the second argument is momentum\n",
    "\n",
    "model.compile(optimizer = tf.keras.optimizers.SGD(0.001, 0.9),\n",
    "             loss = \"mse\",)"
   ]
  },
  {
   "cell_type": "code",
   "execution_count": 14,
   "id": "5fb91c20-f996-45b8-907f-3be54e8f9a7d",
   "metadata": {},
   "outputs": [],
   "source": [
    "# Creating a custom schedule for the learning rate\n",
    "\n",
    "def schedule(epoch, lr):\n",
    "    if epoch >= 50:\n",
    "        return 0.0001\n",
    "    return 0.001\n",
    "\n",
    "scheduler = tf.keras.callbacks.LearningRateScheduler(schedule)"
   ]
  },
  {
   "cell_type": "code",
   "execution_count": 15,
   "id": "1c705f40-e7bd-4a50-9319-b7f0b8a1cdb5",
   "metadata": {},
   "outputs": [
    {
     "name": "stdout",
     "output_type": "stream",
     "text": [
      "Epoch 1/200\n",
      "6/6 [==============================] - 0s 2ms/step - loss: 380.7308 - lr: 0.0010\n",
      "Epoch 2/200\n",
      "6/6 [==============================] - 0s 2ms/step - loss: 302.7466 - lr: 0.0010\n",
      "Epoch 3/200\n",
      "6/6 [==============================] - 0s 2ms/step - loss: 269.5327 - lr: 0.0010\n",
      "Epoch 4/200\n",
      "6/6 [==============================] - 0s 1ms/step - loss: 205.2519 - lr: 0.0010\n",
      "Epoch 5/200\n",
      "6/6 [==============================] - 0s 2ms/step - loss: 168.1390 - lr: 0.0010\n",
      "Epoch 6/200\n",
      "6/6 [==============================] - 0s 2ms/step - loss: 127.1417 - lr: 0.0010\n",
      "Epoch 7/200\n",
      "6/6 [==============================] - 0s 2ms/step - loss: 88.3676 - lr: 0.0010\n",
      "Epoch 8/200\n",
      "6/6 [==============================] - 0s 1ms/step - loss: 72.8958 - lr: 0.0010\n",
      "Epoch 9/200\n",
      "6/6 [==============================] - 0s 2ms/step - loss: 57.4859 - lr: 0.0010\n",
      "Epoch 10/200\n",
      "6/6 [==============================] - 0s 2ms/step - loss: 45.4328 - lr: 0.0010\n",
      "Epoch 11/200\n",
      "6/6 [==============================] - 0s 1ms/step - loss: 47.9956 - lr: 0.0010\n",
      "Epoch 12/200\n",
      "6/6 [==============================] - 0s 1ms/step - loss: 47.7739 - lr: 0.0010\n",
      "Epoch 13/200\n",
      "6/6 [==============================] - 0s 2ms/step - loss: 24.7456 - lr: 0.0010\n",
      "Epoch 14/200\n",
      "6/6 [==============================] - 0s 1ms/step - loss: 17.8549 - lr: 0.0010\n",
      "Epoch 15/200\n",
      "6/6 [==============================] - 0s 2ms/step - loss: 13.4832 - lr: 0.0010\n",
      "Epoch 16/200\n",
      "6/6 [==============================] - 0s 2ms/step - loss: 11.0962 - lr: 0.0010\n",
      "Epoch 17/200\n",
      "6/6 [==============================] - 0s 1ms/step - loss: 8.6176 - lr: 0.0010\n",
      "Epoch 18/200\n",
      "6/6 [==============================] - 0s 1ms/step - loss: 5.7151 - lr: 0.0010\n",
      "Epoch 19/200\n",
      "6/6 [==============================] - 0s 1ms/step - loss: 3.9280 - lr: 0.0010\n",
      "Epoch 20/200\n",
      "6/6 [==============================] - 0s 1ms/step - loss: 3.1290 - lr: 0.0010\n",
      "Epoch 21/200\n",
      "6/6 [==============================] - 0s 1ms/step - loss: 2.1902 - lr: 0.0010\n",
      "Epoch 22/200\n",
      "6/6 [==============================] - 0s 1ms/step - loss: 1.9044 - lr: 0.0010\n",
      "Epoch 23/200\n",
      "6/6 [==============================] - 0s 2ms/step - loss: 1.6156 - lr: 0.0010\n",
      "Epoch 24/200\n",
      "6/6 [==============================] - 0s 1ms/step - loss: 1.6690 - lr: 0.0010\n",
      "Epoch 25/200\n",
      "6/6 [==============================] - 0s 1ms/step - loss: 1.4629 - lr: 0.0010\n",
      "Epoch 26/200\n",
      "6/6 [==============================] - 0s 1ms/step - loss: 1.2477 - lr: 0.0010\n",
      "Epoch 27/200\n",
      "6/6 [==============================] - 0s 1ms/step - loss: 1.1198 - lr: 0.0010\n",
      "Epoch 28/200\n",
      "6/6 [==============================] - 0s 1ms/step - loss: 1.0292 - lr: 0.0010\n",
      "Epoch 29/200\n",
      "6/6 [==============================] - 0s 1ms/step - loss: 1.0582 - lr: 0.0010\n",
      "Epoch 30/200\n",
      "6/6 [==============================] - 0s 5ms/step - loss: 0.9696 - lr: 0.0010\n",
      "Epoch 31/200\n",
      "6/6 [==============================] - 0s 2ms/step - loss: 1.0894 - lr: 0.0010\n",
      "Epoch 32/200\n",
      "6/6 [==============================] - 0s 2ms/step - loss: 0.9629 - lr: 0.0010\n",
      "Epoch 33/200\n",
      "6/6 [==============================] - 0s 1ms/step - loss: 1.0229 - lr: 0.0010\n",
      "Epoch 34/200\n",
      "6/6 [==============================] - 0s 1ms/step - loss: 1.0388 - lr: 0.0010\n",
      "Epoch 35/200\n",
      "6/6 [==============================] - 0s 1ms/step - loss: 0.9364 - lr: 0.0010\n",
      "Epoch 36/200\n",
      "6/6 [==============================] - 0s 2ms/step - loss: 1.4610 - lr: 0.0010\n",
      "Epoch 37/200\n",
      "6/6 [==============================] - 0s 1ms/step - loss: 1.1603 - lr: 0.0010\n",
      "Epoch 38/200\n",
      "6/6 [==============================] - 0s 1ms/step - loss: 1.0372 - lr: 0.0010\n",
      "Epoch 39/200\n",
      "6/6 [==============================] - 0s 2ms/step - loss: 1.0388 - lr: 0.0010\n",
      "Epoch 40/200\n",
      "6/6 [==============================] - 0s 1ms/step - loss: 0.9462 - lr: 0.0010\n",
      "Epoch 41/200\n",
      "6/6 [==============================] - 0s 1ms/step - loss: 1.1097 - lr: 0.0010\n",
      "Epoch 42/200\n",
      "6/6 [==============================] - 0s 1ms/step - loss: 0.9547 - lr: 0.0010\n",
      "Epoch 43/200\n",
      "6/6 [==============================] - 0s 1ms/step - loss: 1.0227 - lr: 0.0010\n",
      "Epoch 44/200\n",
      "6/6 [==============================] - 0s 2ms/step - loss: 1.0149 - lr: 0.0010\n",
      "Epoch 45/200\n",
      "6/6 [==============================] - 0s 1ms/step - loss: 1.0996 - lr: 0.0010\n",
      "Epoch 46/200\n",
      "6/6 [==============================] - 0s 1ms/step - loss: 0.9563 - lr: 0.0010\n",
      "Epoch 47/200\n",
      "6/6 [==============================] - 0s 1ms/step - loss: 0.9378 - lr: 0.0010\n",
      "Epoch 48/200\n",
      "6/6 [==============================] - 0s 1ms/step - loss: 1.0272 - lr: 0.0010\n",
      "Epoch 49/200\n",
      "6/6 [==============================] - 0s 1ms/step - loss: 0.9873 - lr: 0.0010\n",
      "Epoch 50/200\n",
      "6/6 [==============================] - 0s 2ms/step - loss: 0.8862 - lr: 0.0010\n",
      "Epoch 51/200\n",
      "6/6 [==============================] - 0s 1ms/step - loss: 0.8760 - lr: 1.0000e-04\n",
      "Epoch 52/200\n",
      "6/6 [==============================] - 0s 2ms/step - loss: 0.8718 - lr: 1.0000e-04\n",
      "Epoch 53/200\n",
      "6/6 [==============================] - 0s 1ms/step - loss: 0.8717 - lr: 1.0000e-04\n",
      "Epoch 54/200\n",
      "6/6 [==============================] - 0s 1ms/step - loss: 0.8739 - lr: 1.0000e-04\n",
      "Epoch 55/200\n",
      "6/6 [==============================] - 0s 1ms/step - loss: 0.8728 - lr: 1.0000e-04\n",
      "Epoch 56/200\n",
      "6/6 [==============================] - 0s 1ms/step - loss: 0.8789 - lr: 1.0000e-04\n",
      "Epoch 57/200\n",
      "6/6 [==============================] - 0s 1ms/step - loss: 0.8747 - lr: 1.0000e-04\n",
      "Epoch 58/200\n",
      "6/6 [==============================] - 0s 1ms/step - loss: 0.8729 - lr: 1.0000e-04\n",
      "Epoch 59/200\n",
      "6/6 [==============================] - 0s 1ms/step - loss: 0.8740 - lr: 1.0000e-04\n",
      "Epoch 60/200\n",
      "6/6 [==============================] - 0s 1ms/step - loss: 0.8771 - lr: 1.0000e-04\n",
      "Epoch 61/200\n",
      "6/6 [==============================] - 0s 1ms/step - loss: 0.8723 - lr: 1.0000e-04\n",
      "Epoch 62/200\n",
      "6/6 [==============================] - 0s 1ms/step - loss: 0.8755 - lr: 1.0000e-04\n",
      "Epoch 63/200\n",
      "6/6 [==============================] - 0s 2ms/step - loss: 0.8779 - lr: 1.0000e-04\n",
      "Epoch 64/200\n",
      "6/6 [==============================] - 0s 1ms/step - loss: 0.9022 - lr: 1.0000e-04\n",
      "Epoch 65/200\n",
      "6/6 [==============================] - 0s 1ms/step - loss: 0.9128 - lr: 1.0000e-04\n",
      "Epoch 66/200\n",
      "6/6 [==============================] - 0s 2ms/step - loss: 0.8745 - lr: 1.0000e-04\n",
      "Epoch 67/200\n",
      "6/6 [==============================] - 0s 2ms/step - loss: 0.8822 - lr: 1.0000e-04\n",
      "Epoch 68/200\n",
      "6/6 [==============================] - 0s 2ms/step - loss: 0.8778 - lr: 1.0000e-04\n",
      "Epoch 69/200\n",
      "6/6 [==============================] - 0s 2ms/step - loss: 0.8751 - lr: 1.0000e-04\n",
      "Epoch 70/200\n",
      "6/6 [==============================] - 0s 2ms/step - loss: 0.8727 - lr: 1.0000e-04\n",
      "Epoch 71/200\n",
      "6/6 [==============================] - 0s 2ms/step - loss: 0.8728 - lr: 1.0000e-04\n",
      "Epoch 72/200\n",
      "6/6 [==============================] - 0s 1ms/step - loss: 0.8735 - lr: 1.0000e-04\n",
      "Epoch 73/200\n",
      "6/6 [==============================] - 0s 1ms/step - loss: 0.8719 - lr: 1.0000e-04\n",
      "Epoch 74/200\n",
      "6/6 [==============================] - 0s 1ms/step - loss: 0.8716 - lr: 1.0000e-04\n",
      "Epoch 75/200\n",
      "6/6 [==============================] - 0s 1ms/step - loss: 0.8877 - lr: 1.0000e-04\n",
      "Epoch 76/200\n",
      "6/6 [==============================] - 0s 1ms/step - loss: 0.8835 - lr: 1.0000e-04\n",
      "Epoch 77/200\n",
      "6/6 [==============================] - 0s 1ms/step - loss: 0.8813 - lr: 1.0000e-04\n",
      "Epoch 78/200\n",
      "6/6 [==============================] - 0s 1ms/step - loss: 0.8760 - lr: 1.0000e-04\n",
      "Epoch 79/200\n",
      "6/6 [==============================] - 0s 1ms/step - loss: 0.8773 - lr: 1.0000e-04\n",
      "Epoch 80/200\n",
      "6/6 [==============================] - 0s 1ms/step - loss: 0.8746 - lr: 1.0000e-04\n",
      "Epoch 81/200\n",
      "6/6 [==============================] - 0s 1ms/step - loss: 0.8730 - lr: 1.0000e-04\n",
      "Epoch 82/200\n",
      "6/6 [==============================] - 0s 1ms/step - loss: 0.8760 - lr: 1.0000e-04\n",
      "Epoch 83/200\n",
      "6/6 [==============================] - 0s 1ms/step - loss: 0.8736 - lr: 1.0000e-04\n",
      "Epoch 84/200\n",
      "6/6 [==============================] - 0s 1ms/step - loss: 0.8718 - lr: 1.0000e-04\n",
      "Epoch 85/200\n",
      "6/6 [==============================] - 0s 1ms/step - loss: 0.8751 - lr: 1.0000e-04\n",
      "Epoch 86/200\n",
      "6/6 [==============================] - 0s 1ms/step - loss: 0.8735 - lr: 1.0000e-04\n",
      "Epoch 87/200\n",
      "6/6 [==============================] - 0s 1ms/step - loss: 0.8765 - lr: 1.0000e-04\n",
      "Epoch 88/200\n",
      "6/6 [==============================] - 0s 1ms/step - loss: 0.8975 - lr: 1.0000e-04\n",
      "Epoch 89/200\n",
      "6/6 [==============================] - 0s 1ms/step - loss: 0.9058 - lr: 1.0000e-04\n",
      "Epoch 90/200\n",
      "6/6 [==============================] - 0s 1ms/step - loss: 0.8873 - lr: 1.0000e-04\n",
      "Epoch 91/200\n",
      "6/6 [==============================] - 0s 1ms/step - loss: 0.8738 - lr: 1.0000e-04\n",
      "Epoch 92/200\n",
      "6/6 [==============================] - 0s 2ms/step - loss: 0.8707 - lr: 1.0000e-04\n",
      "Epoch 93/200\n",
      "6/6 [==============================] - 0s 1ms/step - loss: 0.8699 - lr: 1.0000e-04\n",
      "Epoch 94/200\n",
      "6/6 [==============================] - 0s 2ms/step - loss: 0.8738 - lr: 1.0000e-04\n",
      "Epoch 95/200\n",
      "6/6 [==============================] - 0s 1ms/step - loss: 0.8723 - lr: 1.0000e-04\n",
      "Epoch 96/200\n",
      "6/6 [==============================] - 0s 1ms/step - loss: 0.8688 - lr: 1.0000e-04\n",
      "Epoch 97/200\n",
      "6/6 [==============================] - 0s 2ms/step - loss: 0.9038 - lr: 1.0000e-04\n",
      "Epoch 98/200\n",
      "6/6 [==============================] - 0s 1ms/step - loss: 0.9050 - lr: 1.0000e-04\n",
      "Epoch 99/200\n",
      "6/6 [==============================] - 0s 2ms/step - loss: 0.8644 - lr: 1.0000e-04\n",
      "Epoch 100/200\n",
      "6/6 [==============================] - 0s 2ms/step - loss: 0.9050 - lr: 1.0000e-04\n",
      "Epoch 101/200\n",
      "6/6 [==============================] - 0s 1ms/step - loss: 0.8883 - lr: 1.0000e-04\n",
      "Epoch 102/200\n",
      "6/6 [==============================] - 0s 1ms/step - loss: 0.8863 - lr: 1.0000e-04\n",
      "Epoch 103/200\n",
      "6/6 [==============================] - 0s 1ms/step - loss: 0.8926 - lr: 1.0000e-04\n",
      "Epoch 104/200\n",
      "6/6 [==============================] - 0s 1ms/step - loss: 0.8722 - lr: 1.0000e-04\n",
      "Epoch 105/200\n",
      "6/6 [==============================] - 0s 1ms/step - loss: 0.8830 - lr: 1.0000e-04\n",
      "Epoch 106/200\n",
      "6/6 [==============================] - 0s 1ms/step - loss: 0.8891 - lr: 1.0000e-04\n",
      "Epoch 107/200\n",
      "6/6 [==============================] - 0s 1ms/step - loss: 0.8949 - lr: 1.0000e-04\n",
      "Epoch 108/200\n",
      "6/6 [==============================] - 0s 1ms/step - loss: 0.8792 - lr: 1.0000e-04\n",
      "Epoch 109/200\n",
      "6/6 [==============================] - 0s 1ms/step - loss: 0.8707 - lr: 1.0000e-04\n",
      "Epoch 110/200\n",
      "6/6 [==============================] - 0s 1ms/step - loss: 0.8752 - lr: 1.0000e-04\n",
      "Epoch 111/200\n",
      "6/6 [==============================] - 0s 1ms/step - loss: 0.8980 - lr: 1.0000e-04\n",
      "Epoch 112/200\n",
      "6/6 [==============================] - 0s 3ms/step - loss: 0.8862 - lr: 1.0000e-04\n",
      "Epoch 113/200\n",
      "6/6 [==============================] - 0s 3ms/step - loss: 0.8741 - lr: 1.0000e-04\n",
      "Epoch 114/200\n",
      "6/6 [==============================] - 0s 2ms/step - loss: 0.8694 - lr: 1.0000e-04\n",
      "Epoch 115/200\n",
      "6/6 [==============================] - 0s 1ms/step - loss: 0.8770 - lr: 1.0000e-04\n",
      "Epoch 116/200\n",
      "6/6 [==============================] - 0s 1ms/step - loss: 0.8752 - lr: 1.0000e-04\n",
      "Epoch 117/200\n",
      "6/6 [==============================] - 0s 1ms/step - loss: 0.8724 - lr: 1.0000e-04\n",
      "Epoch 118/200\n",
      "6/6 [==============================] - 0s 1ms/step - loss: 0.8759 - lr: 1.0000e-04\n",
      "Epoch 119/200\n",
      "6/6 [==============================] - 0s 1ms/step - loss: 0.8735 - lr: 1.0000e-04\n",
      "Epoch 120/200\n",
      "6/6 [==============================] - 0s 1ms/step - loss: 0.8716 - lr: 1.0000e-04\n",
      "Epoch 121/200\n",
      "6/6 [==============================] - 0s 1ms/step - loss: 0.8710 - lr: 1.0000e-04\n",
      "Epoch 122/200\n",
      "6/6 [==============================] - 0s 1ms/step - loss: 0.8752 - lr: 1.0000e-04\n",
      "Epoch 123/200\n",
      "6/6 [==============================] - 0s 1ms/step - loss: 0.8716 - lr: 1.0000e-04\n",
      "Epoch 124/200\n",
      "6/6 [==============================] - 0s 1ms/step - loss: 0.8737 - lr: 1.0000e-04\n",
      "Epoch 125/200\n",
      "6/6 [==============================] - 0s 1ms/step - loss: 0.8748 - lr: 1.0000e-04\n",
      "Epoch 126/200\n",
      "6/6 [==============================] - 0s 1ms/step - loss: 0.8702 - lr: 1.0000e-04\n",
      "Epoch 127/200\n",
      "6/6 [==============================] - 0s 1ms/step - loss: 0.8821 - lr: 1.0000e-04\n",
      "Epoch 128/200\n",
      "6/6 [==============================] - 0s 1ms/step - loss: 0.8766 - lr: 1.0000e-04\n",
      "Epoch 129/200\n",
      "6/6 [==============================] - 0s 1ms/step - loss: 0.8842 - lr: 1.0000e-04\n",
      "Epoch 130/200\n",
      "6/6 [==============================] - 0s 1ms/step - loss: 0.8834 - lr: 1.0000e-04\n",
      "Epoch 131/200\n",
      "6/6 [==============================] - 0s 1ms/step - loss: 0.8781 - lr: 1.0000e-04\n",
      "Epoch 132/200\n",
      "6/6 [==============================] - 0s 1ms/step - loss: 0.8744 - lr: 1.0000e-04\n",
      "Epoch 133/200\n",
      "6/6 [==============================] - 0s 1ms/step - loss: 0.8722 - lr: 1.0000e-04\n",
      "Epoch 134/200\n",
      "6/6 [==============================] - 0s 1ms/step - loss: 0.8714 - lr: 1.0000e-04\n",
      "Epoch 135/200\n",
      "6/6 [==============================] - 0s 1ms/step - loss: 0.8951 - lr: 1.0000e-04\n",
      "Epoch 136/200\n",
      "6/6 [==============================] - 0s 1ms/step - loss: 0.8977 - lr: 1.0000e-04\n",
      "Epoch 137/200\n",
      "6/6 [==============================] - 0s 1ms/step - loss: 0.8997 - lr: 1.0000e-04\n",
      "Epoch 138/200\n",
      "6/6 [==============================] - 0s 1ms/step - loss: 0.8998 - lr: 1.0000e-04\n",
      "Epoch 139/200\n",
      "6/6 [==============================] - 0s 1ms/step - loss: 0.8712 - lr: 1.0000e-04\n",
      "Epoch 140/200\n",
      "6/6 [==============================] - 0s 1ms/step - loss: 0.9106 - lr: 1.0000e-04\n",
      "Epoch 141/200\n",
      "6/6 [==============================] - 0s 1ms/step - loss: 0.9196 - lr: 1.0000e-04\n",
      "Epoch 142/200\n",
      "6/6 [==============================] - 0s 1ms/step - loss: 0.8712 - lr: 1.0000e-04\n",
      "Epoch 143/200\n",
      "6/6 [==============================] - 0s 1ms/step - loss: 0.8692 - lr: 1.0000e-04\n",
      "Epoch 144/200\n",
      "6/6 [==============================] - 0s 1ms/step - loss: 0.8741 - lr: 1.0000e-04\n",
      "Epoch 145/200\n",
      "6/6 [==============================] - 0s 1ms/step - loss: 0.8752 - lr: 1.0000e-04\n",
      "Epoch 146/200\n",
      "6/6 [==============================] - 0s 1ms/step - loss: 0.8738 - lr: 1.0000e-04\n",
      "Epoch 147/200\n",
      "6/6 [==============================] - 0s 3ms/step - loss: 0.8699 - lr: 1.0000e-04\n",
      "Epoch 148/200\n",
      "6/6 [==============================] - 0s 2ms/step - loss: 0.8777 - lr: 1.0000e-04\n",
      "Epoch 149/200\n",
      "6/6 [==============================] - 0s 1ms/step - loss: 0.8817 - lr: 1.0000e-04\n",
      "Epoch 150/200\n",
      "6/6 [==============================] - 0s 1ms/step - loss: 0.9287 - lr: 1.0000e-04\n",
      "Epoch 151/200\n",
      "6/6 [==============================] - 0s 1ms/step - loss: 0.8924 - lr: 1.0000e-04\n",
      "Epoch 152/200\n",
      "6/6 [==============================] - 0s 1ms/step - loss: 0.8751 - lr: 1.0000e-04\n",
      "Epoch 153/200\n",
      "6/6 [==============================] - 0s 1ms/step - loss: 0.8966 - lr: 1.0000e-04\n",
      "Epoch 154/200\n",
      "6/6 [==============================] - 0s 1ms/step - loss: 0.8809 - lr: 1.0000e-04\n",
      "Epoch 155/200\n",
      "6/6 [==============================] - 0s 1ms/step - loss: 0.8702 - lr: 1.0000e-04\n",
      "Epoch 156/200\n",
      "6/6 [==============================] - 0s 2ms/step - loss: 0.8776 - lr: 1.0000e-04\n",
      "Epoch 157/200\n",
      "6/6 [==============================] - 0s 1ms/step - loss: 0.9149 - lr: 1.0000e-04\n",
      "Epoch 158/200\n",
      "6/6 [==============================] - 0s 1ms/step - loss: 0.9055 - lr: 1.0000e-04\n",
      "Epoch 159/200\n",
      "6/6 [==============================] - 0s 1ms/step - loss: 0.8736 - lr: 1.0000e-04\n",
      "Epoch 160/200\n",
      "6/6 [==============================] - 0s 1ms/step - loss: 0.8874 - lr: 1.0000e-04\n",
      "Epoch 161/200\n",
      "6/6 [==============================] - 0s 1ms/step - loss: 0.8771 - lr: 1.0000e-04\n",
      "Epoch 162/200\n",
      "6/6 [==============================] - 0s 1ms/step - loss: 0.8786 - lr: 1.0000e-04\n",
      "Epoch 163/200\n",
      "6/6 [==============================] - 0s 1ms/step - loss: 0.8981 - lr: 1.0000e-04\n",
      "Epoch 164/200\n",
      "6/6 [==============================] - 0s 1ms/step - loss: 0.8761 - lr: 1.0000e-04\n",
      "Epoch 165/200\n",
      "6/6 [==============================] - 0s 1ms/step - loss: 0.8749 - lr: 1.0000e-04\n",
      "Epoch 166/200\n",
      "6/6 [==============================] - 0s 1ms/step - loss: 0.8712 - lr: 1.0000e-04\n",
      "Epoch 167/200\n",
      "6/6 [==============================] - 0s 1ms/step - loss: 0.8708 - lr: 1.0000e-04\n",
      "Epoch 168/200\n",
      "6/6 [==============================] - 0s 1ms/step - loss: 0.8716 - lr: 1.0000e-04\n",
      "Epoch 169/200\n",
      "6/6 [==============================] - 0s 1ms/step - loss: 0.8733 - lr: 1.0000e-04\n",
      "Epoch 170/200\n",
      "6/6 [==============================] - 0s 1ms/step - loss: 0.8706 - lr: 1.0000e-04\n",
      "Epoch 171/200\n",
      "6/6 [==============================] - 0s 1ms/step - loss: 0.8709 - lr: 1.0000e-04\n",
      "Epoch 172/200\n",
      "6/6 [==============================] - 0s 1ms/step - loss: 0.8707 - lr: 1.0000e-04\n",
      "Epoch 173/200\n",
      "6/6 [==============================] - 0s 1ms/step - loss: 0.8758 - lr: 1.0000e-04\n",
      "Epoch 174/200\n",
      "6/6 [==============================] - 0s 1ms/step - loss: 0.8747 - lr: 1.0000e-04\n",
      "Epoch 175/200\n",
      "6/6 [==============================] - 0s 1ms/step - loss: 0.8708 - lr: 1.0000e-04\n",
      "Epoch 176/200\n",
      "6/6 [==============================] - 0s 2ms/step - loss: 0.8707 - lr: 1.0000e-04\n",
      "Epoch 177/200\n",
      "6/6 [==============================] - 0s 1ms/step - loss: 0.8774 - lr: 1.0000e-04\n",
      "Epoch 178/200\n",
      "6/6 [==============================] - 0s 1ms/step - loss: 0.8721 - lr: 1.0000e-04\n",
      "Epoch 179/200\n",
      "6/6 [==============================] - 0s 1ms/step - loss: 0.8741 - lr: 1.0000e-04\n",
      "Epoch 180/200\n",
      "6/6 [==============================] - 0s 1ms/step - loss: 0.8700 - lr: 1.0000e-04\n",
      "Epoch 181/200\n",
      "6/6 [==============================] - 0s 1ms/step - loss: 0.8711 - lr: 1.0000e-04\n",
      "Epoch 182/200\n",
      "6/6 [==============================] - 0s 1ms/step - loss: 0.8698 - lr: 1.0000e-04\n",
      "Epoch 183/200\n",
      "6/6 [==============================] - 0s 1ms/step - loss: 0.8764 - lr: 1.0000e-04\n",
      "Epoch 184/200\n",
      "6/6 [==============================] - 0s 1ms/step - loss: 0.8780 - lr: 1.0000e-04\n",
      "Epoch 185/200\n",
      "6/6 [==============================] - 0s 1ms/step - loss: 0.9133 - lr: 1.0000e-04\n",
      "Epoch 186/200\n",
      "6/6 [==============================] - 0s 1ms/step - loss: 0.9615 - lr: 1.0000e-04\n",
      "Epoch 187/200\n",
      "6/6 [==============================] - 0s 1ms/step - loss: 0.8953 - lr: 1.0000e-04\n",
      "Epoch 188/200\n",
      "6/6 [==============================] - 0s 1ms/step - loss: 0.8819 - lr: 1.0000e-04\n",
      "Epoch 189/200\n",
      "6/6 [==============================] - 0s 1ms/step - loss: 0.8773 - lr: 1.0000e-04\n",
      "Epoch 190/200\n",
      "6/6 [==============================] - 0s 3ms/step - loss: 0.8839 - lr: 1.0000e-04\n",
      "Epoch 191/200\n",
      "6/6 [==============================] - 0s 2ms/step - loss: 0.8664 - lr: 1.0000e-04\n",
      "Epoch 192/200\n",
      "6/6 [==============================] - 0s 2ms/step - loss: 0.8832 - lr: 1.0000e-04\n",
      "Epoch 193/200\n",
      "6/6 [==============================] - 0s 2ms/step - loss: 0.8757 - lr: 1.0000e-04\n",
      "Epoch 194/200\n",
      "6/6 [==============================] - 0s 1ms/step - loss: 0.8713 - lr: 1.0000e-04\n",
      "Epoch 195/200\n",
      "6/6 [==============================] - 0s 1ms/step - loss: 0.8795 - lr: 1.0000e-04\n",
      "Epoch 196/200\n",
      "6/6 [==============================] - 0s 1ms/step - loss: 0.8768 - lr: 1.0000e-04\n",
      "Epoch 197/200\n",
      "6/6 [==============================] - 0s 1ms/step - loss: 0.8840 - lr: 1.0000e-04\n",
      "Epoch 198/200\n",
      "6/6 [==============================] - 0s 1ms/step - loss: 0.9059 - lr: 1.0000e-04\n",
      "Epoch 199/200\n",
      "6/6 [==============================] - 0s 1ms/step - loss: 0.8966 - lr: 1.0000e-04\n",
      "Epoch 200/200\n",
      "6/6 [==============================] - 0s 1ms/step - loss: 0.8742 - lr: 1.0000e-04\n"
     ]
    }
   ],
   "source": [
    "r = model.fit(X, Y, epochs = 200, callbacks = [scheduler])"
   ]
  },
  {
   "cell_type": "code",
   "execution_count": 16,
   "id": "3da628fe-4aba-4d18-bc6f-cf50a834f5ee",
   "metadata": {},
   "outputs": [
    {
     "data": {
      "image/png": "[encoded data removed]",
      "text/plain": [
       "<Figure size 640x480 with 1 Axes>"
      ]
     },
     "metadata": {},
     "output_type": "display_data"
    }
   ],
   "source": [
    "# Plot the loss\n",
    "\n",
    "plt.plot(r.history[\"loss\"], label = \"loss\")\n",
    "plt.legend();"
   ]
  },
  {
   "cell_type": "code",
   "execution_count": 17,
   "id": "e9c7081f-5076-4e5a-8d40-eaf41e502876",
   "metadata": {},
   "outputs": [
    {
     "data": {
      "text/plain": [
       "[array([[0.3446829]], dtype=float32), array([17.758581], dtype=float32)]"
      ]
     },
     "execution_count": 17,
     "metadata": {},
     "output_type": "execute_result"
    }
   ],
   "source": [
    "# By accessing the layers of the model, we can get a matrix of the weights computed\n",
    "# We can interpret this slope because this tells us how fast the transistor count is growing every year according to Moore's Law\n",
    "\n",
    "model.layers[0].get_weights()"
   ]
  },
  {
   "cell_type": "code",
   "execution_count": 24,
   "id": "29a6084c-3fcd-431a-9f56-68c9e6861599",
   "metadata": {},
   "outputs": [
    {
     "name": "stdout",
     "output_type": "stream",
     "text": [
      "Weight of the model: 0.344682902097702\n"
     ]
    }
   ],
   "source": [
    "# Accessing the item at row zero, column zero\n",
    "\n",
    "a = model.layers[0].get_weights()[0][0, 0] \n",
    "print(f\"Weight of the model: {a}\")"
   ]
  },
  {
   "cell_type": "markdown",
   "id": "579769a4-a023-4f9f-867d-e922a16860ed",
   "metadata": {},
   "source": [
    "Our original model for exponential growth is:\n",
    "\n",
    "\\begin{equation} \n",
    "    C = A_{0}r^{t} \n",
    "\\end{equation}"
   ]
  },
  {
   "cell_type": "markdown",
   "id": "e6fd31be-ef79-430d-b4e0-334875e426ba",
   "metadata": {},
   "source": [
    "We are interested in r, because that's the rate of growth. Given our regression weights, we know that:\n",
    "\n",
    "\\begin{equation}  \n",
    "    a = 0.344683\n",
    "\\end{equation} \n",
    "\n",
    "so that:\n",
    "\n",
    "\\begin{equation} \n",
    "    r = e^{0.344683} = 1,411542\n",
    "\\end{equation} "
   ]
  },
  {
   "cell_type": "markdown",
   "id": "05d17f12-ba23-4026-829a-83a42729ff25",
   "metadata": {},
   "source": [
    "To solve (t' - t) we have:\n",
    "\n",
    "\\begin{equation}  \n",
    "    t' -  t =  \\frac{\\log{2}}{\\log{r}} = \\frac{\\log{2}}{a}\n",
    "\\end{equation}"
   ]
  },
  {
   "cell_type": "code",
   "execution_count": 25,
   "id": "016fff91-c215-4a50-8da4-9df4fbde104c",
   "metadata": {},
   "outputs": [
    {
     "name": "stdout",
     "output_type": "stream",
     "text": [
      "According to Moore's Law, the time to double is:  2.010970594542196\n"
     ]
    }
   ],
   "source": [
    "print(\"According to Moore's Law, the time to double is: \", np.log(2) / a)"
   ]
  },
  {
   "cell_type": "code",
   "execution_count": 20,
   "id": "e68b99f1-62a9-403e-8eac-c534b2cd4a36",
   "metadata": {},
   "outputs": [
    {
     "name": "stdout",
     "output_type": "stream",
     "text": [
      "0.341682487387313 17.764939393631764\n",
      "Time to double:  2.0286295205239204\n"
     ]
    }
   ],
   "source": [
    "# We can also implement a mathematical manipulation for the linear regression and check that the values are nearly close\n",
    "\n",
    "X = np.array(X).flatten()\n",
    "Y = np.array(Y)\n",
    "denominator = X.dot(X) - X.mean() * X.sum()\n",
    "a = ( X.dot(Y) - Y.mean() * X.sum() ) / denominator\n",
    "b = ( Y.mean() * X.dot(X) - X.mean() * X.dot(Y) ) / denominator\n",
    "\n",
    "print(a, b)\n",
    "print(\"Time to double: \", np.log(2) / a)"
   ]
  },
  {
   "cell_type": "markdown",
   "id": "2b395d99-9b5e-4f13-9b77-c4edd16c1595",
   "metadata": {},
   "source": [
    "### Making Predictions"
   ]
  },
  {
   "cell_type": "code",
   "execution_count": 21,
   "id": "9661b5f4-0c4f-48df-932f-6d9510ef2c5b",
   "metadata": {},
   "outputs": [
    {
     "name": "stdout",
     "output_type": "stream",
     "text": [
      "6/6 [==============================] - 0s 2ms/step\n"
     ]
    },
    {
     "data": {
      "text/plain": [
       "[<matplotlib.lines.Line2D at 0x7fd61452cad0>]"
      ]
     },
     "execution_count": 21,
     "metadata": {},
     "output_type": "execute_result"
    },
    {
     "data": {
      "image/png": "[encoded data removed]",
      "text/plain": [
       "<Figure size 640x480 with 1 Axes>"
      ]
     },
     "metadata": {},
     "output_type": "display_data"
    }
   ],
   "source": [
    "# From the plot bellow, we can check that the TF model was able to approximate the data really well in its predictions \n",
    "\n",
    "Y_hat = model.predict(X).flatten()\n",
    "plt.scatter(X, Y)\n",
    "plt.plot(X, Y_hat)"
   ]
  },
  {
   "cell_type": "code",
   "execution_count": 22,
   "id": "1a48071b-5840-499d-8262-416a69249de6",
   "metadata": {},
   "outputs": [
    {
     "data": {
      "text/plain": [
       "True"
      ]
     },
     "execution_count": 22,
     "metadata": {},
     "output_type": "execute_result"
    }
   ],
   "source": [
    "# We can also perform a manual calculation for the predictions\n",
    "\n",
    "# Get the weights\n",
    "w, b = model.layers[0].get_weights()\n",
    "\n",
    "# Reshape X because we flattened it again earlier\n",
    "X = X.reshape(-1, 1)\n",
    "\n",
    "# (N x 1) x (1 x 1) + (1) --> (N x 1)\n",
    "Y_hat2 = (X.dot(w) + b).flatten()\n",
    "\n",
    "# Don't use == for floating points\n",
    "np.allclose(Y_hat, Y_hat2)"
   ]
  }
 ],
 "metadata": {
  "kernelspec": {
   "display_name": "Python 3 (ipykernel)",
   "language": "python",
   "name": "python3"
  },
  "language_info": {
   "codemirror_mode": {
    "name": "ipython",
    "version": 3
   },
   "file_extension": ".py",
   "mimetype": "text/x-python",
   "name": "python",
   "nbconvert_exporter": "python",
   "pygments_lexer": "ipython3",
   "version": "3.11.7"
  }
 },
 "nbformat": 4,
 "nbformat_minor": 5
}
